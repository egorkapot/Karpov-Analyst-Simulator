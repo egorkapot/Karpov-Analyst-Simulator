{
 "cells": [
  {
   "cell_type": "code",
   "execution_count": 1,
   "id": "9caf596b-cbf0-4f69-aba8-d44771acda0e",
   "metadata": {},
   "outputs": [],
   "source": [
    "import pandas as pd\n",
    "import pandahouse as ph\n",
    "import matplotlib as plt\n",
    "import seaborn as sns\n",
    "from scipy import stats\n",
    "import hashlib\n",
    "import numpy as np"
   ]
  },
  {
   "cell_type": "code",
   "execution_count": 2,
   "id": "0e6aab22-588f-4f83-8f86-06bb9ff0bb3c",
   "metadata": {
    "tags": []
   },
   "outputs": [
    {
     "data": {
      "text/html": [
       "<div>\n",
       "<style scoped>\n",
       "    .dataframe tbody tr th:only-of-type {\n",
       "        vertical-align: middle;\n",
       "    }\n",
       "\n",
       "    .dataframe tbody tr th {\n",
       "        vertical-align: top;\n",
       "    }\n",
       "\n",
       "    .dataframe thead th {\n",
       "        text-align: right;\n",
       "    }\n",
       "</style>\n",
       "<table border=\"1\" class=\"dataframe\">\n",
       "  <thead>\n",
       "    <tr style=\"text-align: right;\">\n",
       "      <th></th>\n",
       "      <th>post_id</th>\n",
       "      <th>views</th>\n",
       "      <th>likes</th>\n",
       "      <th>uniq_users</th>\n",
       "    </tr>\n",
       "  </thead>\n",
       "  <tbody>\n",
       "    <tr>\n",
       "      <th>0</th>\n",
       "      <td>4450</td>\n",
       "      <td>17179</td>\n",
       "      <td>4752</td>\n",
       "      <td>12070</td>\n",
       "    </tr>\n",
       "    <tr>\n",
       "      <th>1</th>\n",
       "      <td>4554</td>\n",
       "      <td>17068</td>\n",
       "      <td>4913</td>\n",
       "      <td>11978</td>\n",
       "    </tr>\n",
       "    <tr>\n",
       "      <th>2</th>\n",
       "      <td>4467</td>\n",
       "      <td>16219</td>\n",
       "      <td>4481</td>\n",
       "      <td>11579</td>\n",
       "    </tr>\n",
       "    <tr>\n",
       "      <th>3</th>\n",
       "      <td>4538</td>\n",
       "      <td>15909</td>\n",
       "      <td>4430</td>\n",
       "      <td>11394</td>\n",
       "    </tr>\n",
       "    <tr>\n",
       "      <th>4</th>\n",
       "      <td>4487</td>\n",
       "      <td>15317</td>\n",
       "      <td>4138</td>\n",
       "      <td>11152</td>\n",
       "    </tr>\n",
       "    <tr>\n",
       "      <th>5</th>\n",
       "      <td>4551</td>\n",
       "      <td>15132</td>\n",
       "      <td>4027</td>\n",
       "      <td>11075</td>\n",
       "    </tr>\n",
       "    <tr>\n",
       "      <th>6</th>\n",
       "      <td>4562</td>\n",
       "      <td>14948</td>\n",
       "      <td>4014</td>\n",
       "      <td>11006</td>\n",
       "    </tr>\n",
       "    <tr>\n",
       "      <th>7</th>\n",
       "      <td>4553</td>\n",
       "      <td>14803</td>\n",
       "      <td>3910</td>\n",
       "      <td>10895</td>\n",
       "    </tr>\n",
       "    <tr>\n",
       "      <th>8</th>\n",
       "      <td>4586</td>\n",
       "      <td>13531</td>\n",
       "      <td>3352</td>\n",
       "      <td>10234</td>\n",
       "    </tr>\n",
       "    <tr>\n",
       "      <th>9</th>\n",
       "      <td>4595</td>\n",
       "      <td>13182</td>\n",
       "      <td>3237</td>\n",
       "      <td>9953</td>\n",
       "    </tr>\n",
       "  </tbody>\n",
       "</table>\n",
       "</div>"
      ],
      "text/plain": [
       "   post_id  views  likes  uniq_users\n",
       "0     4450  17179   4752       12070\n",
       "1     4554  17068   4913       11978\n",
       "2     4467  16219   4481       11579\n",
       "3     4538  15909   4430       11394\n",
       "4     4487  15317   4138       11152\n",
       "5     4551  15132   4027       11075\n",
       "6     4562  14948   4014       11006\n",
       "7     4553  14803   3910       10895\n",
       "8     4586  13531   3352       10234\n",
       "9     4595  13182   3237        9953"
      ]
     },
     "execution_count": 2,
     "metadata": {},
     "output_type": "execute_result"
    }
   ],
   "source": [
    "connection = {'host': 'https://clickhouse.lab.karpov.courses',\n",
    "                      'database':'simulator_20220920',\n",
    "                      'user':'student', \n",
    "                      'password':'dpo_python_2020'\n",
    "                     }\n",
    "\n",
    "query = '''\n",
    "select post_id, \n",
    "       countIf(action = 'view') as views, \n",
    "       countIf(action = 'like') as likes, \n",
    "       uniq(user_id) as uniq_users \n",
    "from {db}.feed_actions \n",
    "where toDate(time) = yesterday() \n",
    "group by post_id \n",
    "order by views desc \n",
    "limit 10\n",
    "'''\n",
    "\n",
    "df = ph.read_clickhouse(query, connection=connection)\n",
    "df"
   ]
  },
  {
   "cell_type": "code",
   "execution_count": 3,
   "id": "c3aae63a-ee2d-448a-adcb-b16abdb5fd23",
   "metadata": {
    "tags": []
   },
   "outputs": [
    {
     "data": {
      "text/html": [
       "<div>\n",
       "<style scoped>\n",
       "    .dataframe tbody tr th:only-of-type {\n",
       "        vertical-align: middle;\n",
       "    }\n",
       "\n",
       "    .dataframe tbody tr th {\n",
       "        vertical-align: top;\n",
       "    }\n",
       "\n",
       "    .dataframe thead th {\n",
       "        text-align: right;\n",
       "    }\n",
       "</style>\n",
       "<table border=\"1\" class=\"dataframe\">\n",
       "  <thead>\n",
       "    <tr style=\"text-align: right;\">\n",
       "      <th></th>\n",
       "      <th>user_id</th>\n",
       "      <th>post_id</th>\n",
       "      <th>action</th>\n",
       "      <th>time</th>\n",
       "      <th>gender</th>\n",
       "      <th>age</th>\n",
       "      <th>country</th>\n",
       "      <th>city</th>\n",
       "      <th>os</th>\n",
       "      <th>source</th>\n",
       "      <th>exp_group</th>\n",
       "    </tr>\n",
       "  </thead>\n",
       "  <tbody>\n",
       "    <tr>\n",
       "      <th>0</th>\n",
       "      <td>115269</td>\n",
       "      <td>2145</td>\n",
       "      <td>like</td>\n",
       "      <td>2022-09-04 20:40:27</td>\n",
       "      <td>1</td>\n",
       "      <td>19</td>\n",
       "      <td>Belarus</td>\n",
       "      <td>Vysokaye</td>\n",
       "      <td>Android</td>\n",
       "      <td>organic</td>\n",
       "      <td>4</td>\n",
       "    </tr>\n",
       "    <tr>\n",
       "      <th>1</th>\n",
       "      <td>122097</td>\n",
       "      <td>1854</td>\n",
       "      <td>view</td>\n",
       "      <td>2022-09-04 20:40:27</td>\n",
       "      <td>1</td>\n",
       "      <td>26</td>\n",
       "      <td>Russia</td>\n",
       "      <td>Nyazepetrovsk</td>\n",
       "      <td>Android</td>\n",
       "      <td>organic</td>\n",
       "      <td>4</td>\n",
       "    </tr>\n",
       "    <tr>\n",
       "      <th>2</th>\n",
       "      <td>132354</td>\n",
       "      <td>2119</td>\n",
       "      <td>view</td>\n",
       "      <td>2022-09-04 20:40:27</td>\n",
       "      <td>0</td>\n",
       "      <td>19</td>\n",
       "      <td>Russia</td>\n",
       "      <td>Ulan-Ude</td>\n",
       "      <td>Android</td>\n",
       "      <td>organic</td>\n",
       "      <td>1</td>\n",
       "    </tr>\n",
       "    <tr>\n",
       "      <th>3</th>\n",
       "      <td>134989</td>\n",
       "      <td>2024</td>\n",
       "      <td>view</td>\n",
       "      <td>2022-09-04 20:40:27</td>\n",
       "      <td>0</td>\n",
       "      <td>19</td>\n",
       "      <td>Russia</td>\n",
       "      <td>Novosibirsk</td>\n",
       "      <td>Android</td>\n",
       "      <td>organic</td>\n",
       "      <td>4</td>\n",
       "    </tr>\n",
       "    <tr>\n",
       "      <th>4</th>\n",
       "      <td>135083</td>\n",
       "      <td>2110</td>\n",
       "      <td>view</td>\n",
       "      <td>2022-09-04 20:40:27</td>\n",
       "      <td>0</td>\n",
       "      <td>17</td>\n",
       "      <td>Russia</td>\n",
       "      <td>Kostroma</td>\n",
       "      <td>iOS</td>\n",
       "      <td>organic</td>\n",
       "      <td>1</td>\n",
       "    </tr>\n",
       "  </tbody>\n",
       "</table>\n",
       "</div>"
      ],
      "text/plain": [
       "   user_id  post_id action                time  gender  age  country  \\\n",
       "0   115269     2145   like 2022-09-04 20:40:27       1   19  Belarus   \n",
       "1   122097     1854   view 2022-09-04 20:40:27       1   26   Russia   \n",
       "2   132354     2119   view 2022-09-04 20:40:27       0   19   Russia   \n",
       "3   134989     2024   view 2022-09-04 20:40:27       0   19   Russia   \n",
       "4   135083     2110   view 2022-09-04 20:40:27       0   17   Russia   \n",
       "\n",
       "            city       os   source  exp_group  \n",
       "0       Vysokaye  Android  organic          4  \n",
       "1  Nyazepetrovsk  Android  organic          4  \n",
       "2       Ulan-Ude  Android  organic          1  \n",
       "3    Novosibirsk  Android  organic          4  \n",
       "4       Kostroma      iOS  organic          1  "
      ]
     },
     "execution_count": 3,
     "metadata": {},
     "output_type": "execute_result"
    }
   ],
   "source": [
    "query2 = '''\n",
    "select *\n",
    "from {db}.feed_actions\n",
    "limit 50\n",
    "'''\n",
    "\n",
    "df = ph.read_clickhouse(query2, connection=connection)\n",
    "df.head()"
   ]
  },
  {
   "cell_type": "markdown",
   "id": "17ccc09e-da79-4df7-98c2-8f4a7c16c72b",
   "metadata": {},
   "source": [
    "# Задание 1"
   ]
  },
  {
   "cell_type": "markdown",
   "id": "f9d06936-705e-4c19-9b52-bf829ea5c789",
   "metadata": {},
   "source": [
    "В лекции мы выяснили, что при проведении АА-теста было бы здорово убедиться в том, что наша система сплитования работает корректно, и ключевая метрика не отличается между группами не только в конкретно нашем АА-тесте, но и в целом.\n",
    "\n",
    "В идеале было бы здорово провести бесконечное количество АA-тестов и посмотреть, в каком количестве случаем нам удалось отклонить нулевую гипотезу. Если система сплитования работает корректно, то статистически значимые различия между двумя группами встречались бы только в результате случайного ложного срабатывания. Например, если мы отвергаем нулевую гипотезу при условии, что p_value < 0.05, то только приблизительно в 5% случаев у нас бы получались статистические значимые различия между 0 и 1 группой.\n",
    "\n",
    "Понятное дело, что на практике провести бесконечное число тестов у нас навряд ли получится, поэтому используется небольшой трюк! Мы будем многократно извлекать подвыборки из наших данных, проводить t-test, и в конце посмотрим, в каком проценте случаев нам удалось отклонить нулевую гипотезу.\n",
    "\n",
    "Итак, что нужно сделать: у нас есть данные АА-теста с '2022-08-27' по '2022-09-02'. Вам нужно сделать симуляцию, как будто мы провели 10000 АА-тестов. На каждой итерации вам нужно сформировать подвыборки без повторения в 500 юзеров из 2 и 3 экспериментальной группы. Провести сравнение этих подвыборок t-testом.\n",
    "\n",
    "1. Построить гистограмму распределения получившихся 10000 p-values.\n",
    "\n",
    "2. Посчитать, какой процент p values оказался меньше либо равен 0.05\n",
    "\n",
    "3. Написать вывод по проведенному АА-тесту, корректно ли работает наша система сплитования."
   ]
  },
  {
   "cell_type": "markdown",
   "id": "e51e0b79-3c77-46f3-ab40-f8c2811ccaf6",
   "metadata": {},
   "source": [
    "### Connection"
   ]
  },
  {
   "cell_type": "code",
   "execution_count": 4,
   "id": "0bcea2b7-bfa6-4e36-980d-2f363f77b165",
   "metadata": {},
   "outputs": [
    {
     "data": {
      "text/html": [
       "<div>\n",
       "<style scoped>\n",
       "    .dataframe tbody tr th:only-of-type {\n",
       "        vertical-align: middle;\n",
       "    }\n",
       "\n",
       "    .dataframe tbody tr th {\n",
       "        vertical-align: top;\n",
       "    }\n",
       "\n",
       "    .dataframe thead th {\n",
       "        text-align: right;\n",
       "    }\n",
       "</style>\n",
       "<table border=\"1\" class=\"dataframe\">\n",
       "  <thead>\n",
       "    <tr style=\"text-align: right;\">\n",
       "      <th></th>\n",
       "      <th>user_id</th>\n",
       "      <th>exp_group</th>\n",
       "      <th>likes</th>\n",
       "      <th>views</th>\n",
       "      <th>ctr</th>\n",
       "    </tr>\n",
       "  </thead>\n",
       "  <tbody>\n",
       "    <tr>\n",
       "      <th>0</th>\n",
       "      <td>78186</td>\n",
       "      <td>2</td>\n",
       "      <td>20</td>\n",
       "      <td>83</td>\n",
       "      <td>0.240964</td>\n",
       "    </tr>\n",
       "    <tr>\n",
       "      <th>1</th>\n",
       "      <td>123580</td>\n",
       "      <td>3</td>\n",
       "      <td>8</td>\n",
       "      <td>29</td>\n",
       "      <td>0.275862</td>\n",
       "    </tr>\n",
       "    <tr>\n",
       "      <th>2</th>\n",
       "      <td>36785</td>\n",
       "      <td>3</td>\n",
       "      <td>6</td>\n",
       "      <td>33</td>\n",
       "      <td>0.181818</td>\n",
       "    </tr>\n",
       "    <tr>\n",
       "      <th>3</th>\n",
       "      <td>24239</td>\n",
       "      <td>2</td>\n",
       "      <td>58</td>\n",
       "      <td>163</td>\n",
       "      <td>0.355828</td>\n",
       "    </tr>\n",
       "    <tr>\n",
       "      <th>4</th>\n",
       "      <td>51455</td>\n",
       "      <td>3</td>\n",
       "      <td>12</td>\n",
       "      <td>62</td>\n",
       "      <td>0.193548</td>\n",
       "    </tr>\n",
       "    <tr>\n",
       "      <th>...</th>\n",
       "      <td>...</td>\n",
       "      <td>...</td>\n",
       "      <td>...</td>\n",
       "      <td>...</td>\n",
       "      <td>...</td>\n",
       "    </tr>\n",
       "    <tr>\n",
       "      <th>33128</th>\n",
       "      <td>76891</td>\n",
       "      <td>2</td>\n",
       "      <td>30</td>\n",
       "      <td>149</td>\n",
       "      <td>0.201342</td>\n",
       "    </tr>\n",
       "    <tr>\n",
       "      <th>33129</th>\n",
       "      <td>59057</td>\n",
       "      <td>2</td>\n",
       "      <td>32</td>\n",
       "      <td>160</td>\n",
       "      <td>0.200000</td>\n",
       "    </tr>\n",
       "    <tr>\n",
       "      <th>33130</th>\n",
       "      <td>77459</td>\n",
       "      <td>2</td>\n",
       "      <td>24</td>\n",
       "      <td>113</td>\n",
       "      <td>0.212389</td>\n",
       "    </tr>\n",
       "    <tr>\n",
       "      <th>33131</th>\n",
       "      <td>108927</td>\n",
       "      <td>2</td>\n",
       "      <td>21</td>\n",
       "      <td>74</td>\n",
       "      <td>0.283784</td>\n",
       "    </tr>\n",
       "    <tr>\n",
       "      <th>33132</th>\n",
       "      <td>17310</td>\n",
       "      <td>2</td>\n",
       "      <td>8</td>\n",
       "      <td>41</td>\n",
       "      <td>0.195122</td>\n",
       "    </tr>\n",
       "  </tbody>\n",
       "</table>\n",
       "<p>33133 rows × 5 columns</p>\n",
       "</div>"
      ],
      "text/plain": [
       "       user_id  exp_group  likes  views       ctr\n",
       "0        78186          2     20     83  0.240964\n",
       "1       123580          3      8     29  0.275862\n",
       "2        36785          3      6     33  0.181818\n",
       "3        24239          2     58    163  0.355828\n",
       "4        51455          3     12     62  0.193548\n",
       "...        ...        ...    ...    ...       ...\n",
       "33128    76891          2     30    149  0.201342\n",
       "33129    59057          2     32    160  0.200000\n",
       "33130    77459          2     24    113  0.212389\n",
       "33131   108927          2     21     74  0.283784\n",
       "33132    17310          2      8     41  0.195122\n",
       "\n",
       "[33133 rows x 5 columns]"
      ]
     },
     "execution_count": 4,
     "metadata": {},
     "output_type": "execute_result"
    }
   ],
   "source": [
    "q_ids = \"\"\"\n",
    "SELECT user_id, exp_group,\n",
    "    sum(action = 'like') as likes,\n",
    "    sum(action = 'view') as views,\n",
    "    likes/views as ctr\n",
    "FROM simulator_20220820.feed_actions\n",
    "WHERE toDate(time) >= '2022-08-27' and toDate(time) <= '2022-09-02'\n",
    "AND exp_group in (2,3)\n",
    "GROUP BY exp_group, user_id\n",
    "\"\"\"\n",
    "\n",
    "df = ph.read_clickhouse(q_ids, connection=connection)\n",
    "df"
   ]
  },
  {
   "cell_type": "code",
   "execution_count": 5,
   "id": "3f17d204-f3e8-42c4-909a-68893d89e42a",
   "metadata": {},
   "outputs": [
    {
     "data": {
      "text/plain": [
       "exp_group\n",
       "2    16535\n",
       "3    16598\n",
       "Name: user_id, dtype: int64"
      ]
     },
     "execution_count": 5,
     "metadata": {},
     "output_type": "execute_result"
    }
   ],
   "source": [
    "df.groupby('exp_group').user_id.nunique()"
   ]
  },
  {
   "cell_type": "code",
   "execution_count": 6,
   "id": "1467536d-e8d7-4b44-a454-ae553aa75141",
   "metadata": {},
   "outputs": [
    {
     "data": {
      "image/png": "[encoded data removed]",
      "text/plain": [
       "<Figure size 842.4x595.44 with 1 Axes>"
      ]
     },
     "metadata": {},
     "output_type": "display_data"
    }
   ],
   "source": [
    "#Seaborn graph\n",
    "sns.set(rc={'figure.figsize':(11.7, 8.27)})\n",
    "\n",
    "groups = sns.histplot(data = df, \n",
    "    x='ctr', \n",
    "    hue='exp_group', \n",
    "    palette = ['r', 'b'],\n",
    "    alpha=0.5,\n",
    "    kde=False)"
   ]
  },
  {
   "cell_type": "code",
   "execution_count": 7,
   "id": "c684e26a-f765-48bc-927a-72b3f0f9425e",
   "metadata": {},
   "outputs": [
    {
     "data": {
      "text/plain": [
       "Ttest_indResult(statistic=-1.0269615567179102, pvalue=0.30444606548572745)"
      ]
     },
     "execution_count": 7,
     "metadata": {},
     "output_type": "execute_result"
    }
   ],
   "source": [
    "stats.ttest_ind(df[df.exp_group == 2].ctr, df[df.exp_group == 3].ctr, equal_var = False) "
   ]
  },
  {
   "cell_type": "markdown",
   "id": "c60a6968-f914-4a5c-8ce0-a125ed2da661",
   "metadata": {},
   "source": [
    "### Booststrap"
   ]
  },
  {
   "cell_type": "code",
   "execution_count": 8,
   "id": "e12612eb-fd78-4c10-bb95-a20a21c9e2d2",
   "metadata": {},
   "outputs": [
    {
     "name": "stderr",
     "output_type": "stream",
     "text": [
      "/nfs/env/lib/python3.8/site-packages/seaborn/distributions.py:2557: FutureWarning: `distplot` is a deprecated function and will be removed in a future version. Please adapt your code to use either `displot` (a figure-level function with similar flexibility) or `histplot` (an axes-level function for histograms).\n",
      "  warnings.warn(msg, FutureWarning)\n"
     ]
    },
    {
     "data": {
      "image/png": "[encoded data removed]",
      "text/plain": [
       "<Figure size 842.4x595.44 with 1 Axes>"
      ]
     },
     "metadata": {},
     "output_type": "display_data"
    }
   ],
   "source": [
    "group_A = df[df.exp_group == 2].copy()\n",
    "group_B = df[df.exp_group == 3].copy()\n",
    "\n",
    "ps = []\n",
    "\n",
    "for i in range (10000):\n",
    "    _, p_value = stats.ttest_ind(group_A.ctr.sample(500, replace=False),\n",
    "                                 group_B.ctr.sample(500, replace=False),\n",
    "                                 equal_var = False)\n",
    "    ps.append(p_value)\n",
    "    \n",
    "sns.distplot(ps);"
   ]
  },
  {
   "cell_type": "code",
   "execution_count": 9,
   "id": "70f65db1-aa72-439a-b6b0-8e1161b7f52b",
   "metadata": {},
   "outputs": [
    {
     "data": {
      "text/plain": [
       "0.0506"
      ]
     },
     "execution_count": 9,
     "metadata": {},
     "output_type": "execute_result"
    }
   ],
   "source": [
    "sum(np.array(ps)<0.05)/10000"
   ]
  },
  {
   "cell_type": "markdown",
   "id": "b9042e53-344b-4a02-ae11-b01be3996e45",
   "metadata": {},
   "source": [
    "Ответ: 5% p_value ~ 0.05"
   ]
  },
  {
   "cell_type": "markdown",
   "id": "971e71d6-56ca-46bc-9213-8111e033bbca",
   "metadata": {},
   "source": [
    "Вывод: т-тест по изначальному распределению показал значение p_value ~ 0.30 что является нормальным.\n",
    "\n",
    "Проведя 10000 АА тестов, брав по 500 пользователей из каждой группы, мы достигли равномерного распределения p_value, что подтверждает нулевую гипотезу\n"
   ]
  },
  {
   "cell_type": "markdown",
   "id": "ed139e8c-be61-4160-8911-b9a58a161643",
   "metadata": {},
   "source": [
    "### Task 2"
   ]
  },
  {
   "cell_type": "markdown",
   "id": "0eca38da-cdf9-48ae-973e-e6afbcc88794",
   "metadata": {},
   "source": [
    "Пришло время проанализировать результаты эксперимента, который мы провели вместе с командой дата сайентистов. Эксперимент проходил с 2022-09-03 по 2022-09-09 включительно. Для эксперимента были задействованы 2 и 1 группы. \n",
    "\n",
    "В группе 2 был использован один из новых алгоритмов рекомендации постов, группа 1 использовалась в качестве контроля. \n",
    "\n",
    "Основная гипотеза заключается в том, что новый алгоритм во 2-й группе приведет к увеличению CTR. \n",
    "\n",
    "Ваша задача — проанализировать данные АB-теста. \n",
    "\n",
    "Выбрать метод анализа и сравнить CTR в двух группах (мы разбирали t-тест, Пуассоновский бутстреп, тест Манна-Уитни, t-тест на сглаженном ctr (α=5) а также t-тест и тест Манна-Уитни поверх бакетного преобразования).\n",
    "Сравните данные этими тестами. А еще посмотрите на распределения глазами. Почему тесты сработали так как сработали? \n",
    "Опишите потенциальную ситуацию, когда такое изменение могло произойти. Тут нет идеального ответа, подумайте.\n",
    "Напишите рекомендацию, будем ли мы раскатывать новый алгоритм на всех новых пользователей или все-таки не стоит.\n",
    "Ваше решение — это ссылка на merge request с проведенным анализом."
   ]
  },
  {
   "cell_type": "markdown",
   "id": "89f6c894-414c-4bac-b4e7-7b5c370f6faf",
   "metadata": {},
   "source": [
    "### Проверим что было на АА тесте этих двух групп"
   ]
  },
  {
   "cell_type": "code",
   "execution_count": 17,
   "id": "e6db5bdc-db35-4d8a-bd9e-375b2a502748",
   "metadata": {},
   "outputs": [
    {
     "data": {
      "text/html": [
       "<div>\n",
       "<style scoped>\n",
       "    .dataframe tbody tr th:only-of-type {\n",
       "        vertical-align: middle;\n",
       "    }\n",
       "\n",
       "    .dataframe tbody tr th {\n",
       "        vertical-align: top;\n",
       "    }\n",
       "\n",
       "    .dataframe thead th {\n",
       "        text-align: right;\n",
       "    }\n",
       "</style>\n",
       "<table border=\"1\" class=\"dataframe\">\n",
       "  <thead>\n",
       "    <tr style=\"text-align: right;\">\n",
       "      <th></th>\n",
       "      <th>user_id</th>\n",
       "      <th>exp_group</th>\n",
       "      <th>likes</th>\n",
       "      <th>views</th>\n",
       "      <th>ctr</th>\n",
       "    </tr>\n",
       "  </thead>\n",
       "  <tbody>\n",
       "    <tr>\n",
       "      <th>0</th>\n",
       "      <td>109963</td>\n",
       "      <td>1</td>\n",
       "      <td>2</td>\n",
       "      <td>15</td>\n",
       "      <td>0.133333</td>\n",
       "    </tr>\n",
       "    <tr>\n",
       "      <th>1</th>\n",
       "      <td>26117</td>\n",
       "      <td>1</td>\n",
       "      <td>13</td>\n",
       "      <td>35</td>\n",
       "      <td>0.371429</td>\n",
       "    </tr>\n",
       "    <tr>\n",
       "      <th>2</th>\n",
       "      <td>18392</td>\n",
       "      <td>1</td>\n",
       "      <td>8</td>\n",
       "      <td>39</td>\n",
       "      <td>0.205128</td>\n",
       "    </tr>\n",
       "    <tr>\n",
       "      <th>3</th>\n",
       "      <td>26295</td>\n",
       "      <td>1</td>\n",
       "      <td>4</td>\n",
       "      <td>9</td>\n",
       "      <td>0.444444</td>\n",
       "    </tr>\n",
       "    <tr>\n",
       "      <th>4</th>\n",
       "      <td>131473</td>\n",
       "      <td>2</td>\n",
       "      <td>26</td>\n",
       "      <td>148</td>\n",
       "      <td>0.175676</td>\n",
       "    </tr>\n",
       "  </tbody>\n",
       "</table>\n",
       "</div>"
      ],
      "text/plain": [
       "   user_id  exp_group  likes  views       ctr\n",
       "0   109963          1      2     15  0.133333\n",
       "1    26117          1     13     35  0.371429\n",
       "2    18392          1      8     39  0.205128\n",
       "3    26295          1      4      9  0.444444\n",
       "4   131473          2     26    148  0.175676"
      ]
     },
     "execution_count": 17,
     "metadata": {},
     "output_type": "execute_result"
    }
   ],
   "source": [
    "task_1 = \"\"\"\n",
    "SELECT user_id, exp_group,\n",
    "    sum(action = 'like') as likes,\n",
    "    sum(action = 'view') as views,\n",
    "    likes/views as ctr\n",
    "FROM simulator_20220920.feed_actions\n",
    "WHERE toDate(time) >= '2022-08-27' and toDate(time) <= '2022-09-02'\n",
    "AND exp_group in (1,2)\n",
    "GROUP BY exp_group, user_id\n",
    "\"\"\"\n",
    "\n",
    "df_2_aa = ph.read_clickhouse(task_1, connection=connection)\n",
    "df_2_aa.head(5)"
   ]
  },
  {
   "cell_type": "code",
   "execution_count": 18,
   "id": "f1224669-5782-4f02-9b93-60e70950a2c7",
   "metadata": {},
   "outputs": [
    {
     "name": "stdout",
     "output_type": "stream",
     "text": [
      "Ttest_indResult(statistic=-2.0172086421794484, pvalue=0.04368941747573794)\n"
     ]
    },
    {
     "data": {
      "image/png": "[encoded data removed]",
      "text/plain": [
       "<Figure size 842.4x595.44 with 1 Axes>"
      ]
     },
     "metadata": {},
     "output_type": "display_data"
    }
   ],
   "source": [
    "print(stats.ttest_ind(df_2_aa[df_2_aa.exp_group == 1].ctr, df_2_aa[df_2_aa.exp_group == 2].ctr, equal_var=False))\n",
    "sns.histplot(data = df_2_aa, x='ctr', hue='exp_group', palette = ['r', 'b'], kde=False, alpha=0.5);"
   ]
  },
  {
   "cell_type": "markdown",
   "id": "bdd7dbb2-a3ad-451b-ba42-f758b22593bd",
   "metadata": {},
   "source": [
    "T-test и гистограмма говорят что группы статистически эквивалентны"
   ]
  },
  {
   "cell_type": "markdown",
   "id": "3da993e2-f101-402c-83bc-eb2fae191dda",
   "metadata": {},
   "source": [
    "### AB тест"
   ]
  },
  {
   "cell_type": "code",
   "execution_count": 23,
   "id": "46871b35-a658-4b05-8b53-3ad2da2fe987",
   "metadata": {},
   "outputs": [
    {
     "data": {
      "text/html": [
       "<div>\n",
       "<style scoped>\n",
       "    .dataframe tbody tr th:only-of-type {\n",
       "        vertical-align: middle;\n",
       "    }\n",
       "\n",
       "    .dataframe tbody tr th {\n",
       "        vertical-align: top;\n",
       "    }\n",
       "\n",
       "    .dataframe thead th {\n",
       "        text-align: right;\n",
       "    }\n",
       "</style>\n",
       "<table border=\"1\" class=\"dataframe\">\n",
       "  <thead>\n",
       "    <tr style=\"text-align: right;\">\n",
       "      <th></th>\n",
       "      <th>user_id</th>\n",
       "      <th>exp_group</th>\n",
       "      <th>likes</th>\n",
       "      <th>views</th>\n",
       "      <th>ctr</th>\n",
       "    </tr>\n",
       "  </thead>\n",
       "  <tbody>\n",
       "    <tr>\n",
       "      <th>0</th>\n",
       "      <td>109963</td>\n",
       "      <td>1</td>\n",
       "      <td>3</td>\n",
       "      <td>15</td>\n",
       "      <td>0.200000</td>\n",
       "    </tr>\n",
       "    <tr>\n",
       "      <th>1</th>\n",
       "      <td>26117</td>\n",
       "      <td>1</td>\n",
       "      <td>32</td>\n",
       "      <td>141</td>\n",
       "      <td>0.226950</td>\n",
       "    </tr>\n",
       "    <tr>\n",
       "      <th>2</th>\n",
       "      <td>138232</td>\n",
       "      <td>1</td>\n",
       "      <td>18</td>\n",
       "      <td>73</td>\n",
       "      <td>0.246575</td>\n",
       "    </tr>\n",
       "    <tr>\n",
       "      <th>3</th>\n",
       "      <td>26295</td>\n",
       "      <td>1</td>\n",
       "      <td>33</td>\n",
       "      <td>122</td>\n",
       "      <td>0.270492</td>\n",
       "    </tr>\n",
       "    <tr>\n",
       "      <th>4</th>\n",
       "      <td>18392</td>\n",
       "      <td>1</td>\n",
       "      <td>7</td>\n",
       "      <td>32</td>\n",
       "      <td>0.218750</td>\n",
       "    </tr>\n",
       "    <tr>\n",
       "      <th>...</th>\n",
       "      <td>...</td>\n",
       "      <td>...</td>\n",
       "      <td>...</td>\n",
       "      <td>...</td>\n",
       "      <td>...</td>\n",
       "    </tr>\n",
       "    <tr>\n",
       "      <th>20026</th>\n",
       "      <td>132567</td>\n",
       "      <td>1</td>\n",
       "      <td>45</td>\n",
       "      <td>296</td>\n",
       "      <td>0.152027</td>\n",
       "    </tr>\n",
       "    <tr>\n",
       "      <th>20027</th>\n",
       "      <td>30872</td>\n",
       "      <td>1</td>\n",
       "      <td>11</td>\n",
       "      <td>59</td>\n",
       "      <td>0.186441</td>\n",
       "    </tr>\n",
       "    <tr>\n",
       "      <th>20028</th>\n",
       "      <td>25383</td>\n",
       "      <td>2</td>\n",
       "      <td>42</td>\n",
       "      <td>127</td>\n",
       "      <td>0.330709</td>\n",
       "    </tr>\n",
       "    <tr>\n",
       "      <th>20029</th>\n",
       "      <td>139020</td>\n",
       "      <td>2</td>\n",
       "      <td>24</td>\n",
       "      <td>114</td>\n",
       "      <td>0.210526</td>\n",
       "    </tr>\n",
       "    <tr>\n",
       "      <th>20030</th>\n",
       "      <td>17310</td>\n",
       "      <td>2</td>\n",
       "      <td>9</td>\n",
       "      <td>82</td>\n",
       "      <td>0.109756</td>\n",
       "    </tr>\n",
       "  </tbody>\n",
       "</table>\n",
       "<p>20031 rows × 5 columns</p>\n",
       "</div>"
      ],
      "text/plain": [
       "       user_id  exp_group  likes  views       ctr\n",
       "0       109963          1      3     15  0.200000\n",
       "1        26117          1     32    141  0.226950\n",
       "2       138232          1     18     73  0.246575\n",
       "3        26295          1     33    122  0.270492\n",
       "4        18392          1      7     32  0.218750\n",
       "...        ...        ...    ...    ...       ...\n",
       "20026   132567          1     45    296  0.152027\n",
       "20027    30872          1     11     59  0.186441\n",
       "20028    25383          2     42    127  0.330709\n",
       "20029   139020          2     24    114  0.210526\n",
       "20030    17310          2      9     82  0.109756\n",
       "\n",
       "[20031 rows x 5 columns]"
      ]
     },
     "execution_count": 23,
     "metadata": {},
     "output_type": "execute_result"
    }
   ],
   "source": [
    "task_2 = \"\"\"\n",
    "SELECT user_id, exp_group,\n",
    "    sum(action = 'like') as likes,\n",
    "    sum(action = 'view') as views,\n",
    "    likes/views as ctr\n",
    "FROM simulator_20220920.feed_actions\n",
    "WHERE toDate(time) >= '2022-09-03' and toDate(time) <= '2022-09-09'\n",
    "AND exp_group in (1,2)\n",
    "GROUP BY exp_group, user_id\n",
    "\"\"\"\n",
    "\n",
    "df_2 = ph.read_clickhouse(task_2, connection=connection)\n",
    "df_2"
   ]
  },
  {
   "cell_type": "markdown",
   "id": "0ee145c5-1625-4f3c-b152-69e726ec979e",
   "metadata": {},
   "source": [
    "### Сравним средние групп до и после AB теста"
   ]
  },
  {
   "cell_type": "code",
   "execution_count": null,
   "id": "5f58ae00-5a9f-473e-826a-9a905de6e5d5",
   "metadata": {},
   "outputs": [
    {
     "name": "stdout",
     "output_type": "stream",
     "text": [
      "Avg ctr for 1st group after AB testing is 0.21560459841296287\n",
      "Avg ctr for 2nd group after AB testing is 0.21441927347479375\n"
     ]
    }
   ],
   "source": [
    "print('Avg ctr for 1st group after AB testing is',df_2[df_2.exp_group == 1].ctr.mean())\n",
    "print('Avg ctr for 2nd group after AB testing is', df_2[df_2.exp_group == 2].ctr.mean())"
   ]
  },
  {
   "cell_type": "code",
   "execution_count": null,
   "id": "c06b9730-a948-460d-8566-8137b955b2a6",
   "metadata": {},
   "outputs": [
    {
     "name": "stdout",
     "output_type": "stream",
     "text": [
      "Avg ctr for 1st group before AB testing is 0.21560459841296287\n",
      "Avg ctr for 2nd group before AB testing is 0.21441927347479375\n"
     ]
    }
   ],
   "source": [
    "print('Avg ctr for 1st group before AB testing is',df_2_aa[df_2_aa.exp_group == 1].ctr.mean())\n",
    "print('Avg ctr for 2nd group before AB testing is', df_2_aa[df_2_aa.exp_group == 2].ctr.mean())"
   ]
  },
  {
   "cell_type": "markdown",
   "id": "e5d82c89-eac7-4089-b0b7-4a6c8bced6c6",
   "metadata": {},
   "source": [
    "Средний CTR контрольной группы почти не изменился, средний CTR таргет группы изменился на ~0.004. Пока не впечатляет"
   ]
  },
  {
   "cell_type": "markdown",
   "id": "3d8b43e9-5db1-4ddd-bf64-3b26614934a5",
   "metadata": {},
   "source": [
    "### График распределения ctr после AB теста + t_test"
   ]
  },
  {
   "cell_type": "code",
   "execution_count": 24,
   "id": "8907b198-a2a5-4c35-80da-ea83dbf60179",
   "metadata": {},
   "outputs": [
    {
     "name": "stdout",
     "output_type": "stream",
     "text": [
      "Ttest_indResult(statistic=0.7094392041270486, pvalue=0.4780623130874935)\n"
     ]
    },
    {
     "data": {
      "image/png": "[encoded data removed]",
      "text/plain": [
       "<Figure size 842.4x595.44 with 1 Axes>"
      ]
     },
     "metadata": {},
     "output_type": "display_data"
    }
   ],
   "source": [
    "print(stats.ttest_ind(df_2[df_2.exp_group == 1].ctr, df_2[df_2.exp_group == 2].ctr, equal_var=False))\n",
    "sns.histplot(data = df_2, x='ctr', hue='exp_group', palette = ['r', 'b'], kde=False, alpha=0.5);"
   ]
  },
  {
   "cell_type": "markdown",
   "id": "27736096-aa0a-49c6-ab9c-30b6f7f8ec87",
   "metadata": {},
   "source": [
    "На графике видно, что распределения очень разные и таргет группа имеет бимодальное распределение, а контрольная группа - унимодальное. В таком случае т-тест может работать не совсем корректно"
   ]
  },
  {
   "cell_type": "markdown",
   "id": "f920065f-77d4-4264-897e-39f1b3b5e0c9",
   "metadata": {},
   "source": [
    "### Mannwhitney"
   ]
  },
  {
   "cell_type": "code",
   "execution_count": 25,
   "id": "0080c2e2-c7fa-4a0f-8d20-cf72b01ae378",
   "metadata": {},
   "outputs": [
    {
     "name": "stdout",
     "output_type": "stream",
     "text": [
      "MannwhitneyuResult(statistic=56601260.5, pvalue=6.0376484617779035e-56)\n",
      " \n",
      "В 56.31 случаев A>B. Должно получиться около 50%\n"
     ]
    }
   ],
   "source": [
    "print(stats.mannwhitneyu(df_2[df_2.exp_group == 1].ctr, df_2[df_2.exp_group == 2].ctr, alternative='two-sided'))\n",
    "\n",
    "print(' ')\n",
    "\n",
    "A_gt_B = 0\n",
    "\n",
    "for _ in range(10000):\n",
    "    A_gt_B+= df_2[df_2.exp_group == 1].ctr.sample().values[0] > df_2[df_2.exp_group == 2].ctr.sample().values[0]\n",
    "    \n",
    "print('В', A_gt_B/100, 'случаев A>B. Должно получиться около 50%')    "
   ]
  },
  {
   "cell_type": "markdown",
   "id": "05a9d62b-13ab-4369-9cf5-f70cc6d669cb",
   "metadata": {},
   "source": [
    "### Smoothed CTR"
   ]
  },
  {
   "cell_type": "code",
   "execution_count": 26,
   "id": "cfa81e19-3483-4687-b06f-5ae9138ef08d",
   "metadata": {},
   "outputs": [
    {
     "data": {
      "text/html": [
       "<div>\n",
       "<style scoped>\n",
       "    .dataframe tbody tr th:only-of-type {\n",
       "        vertical-align: middle;\n",
       "    }\n",
       "\n",
       "    .dataframe tbody tr th {\n",
       "        vertical-align: top;\n",
       "    }\n",
       "\n",
       "    .dataframe thead th {\n",
       "        text-align: right;\n",
       "    }\n",
       "</style>\n",
       "<table border=\"1\" class=\"dataframe\">\n",
       "  <thead>\n",
       "    <tr style=\"text-align: right;\">\n",
       "      <th></th>\n",
       "      <th>user_id</th>\n",
       "      <th>exp_group</th>\n",
       "      <th>likes</th>\n",
       "      <th>views</th>\n",
       "      <th>ctr</th>\n",
       "      <th>global_ctr</th>\n",
       "      <th>smoothed_ctr</th>\n",
       "    </tr>\n",
       "  </thead>\n",
       "  <tbody>\n",
       "    <tr>\n",
       "      <th>0</th>\n",
       "      <td>109963</td>\n",
       "      <td>1</td>\n",
       "      <td>3</td>\n",
       "      <td>15</td>\n",
       "      <td>0.200000</td>\n",
       "      <td>0.208027</td>\n",
       "      <td>0.202007</td>\n",
       "    </tr>\n",
       "    <tr>\n",
       "      <th>1</th>\n",
       "      <td>26117</td>\n",
       "      <td>1</td>\n",
       "      <td>32</td>\n",
       "      <td>141</td>\n",
       "      <td>0.226950</td>\n",
       "      <td>0.208027</td>\n",
       "      <td>0.226302</td>\n",
       "    </tr>\n",
       "    <tr>\n",
       "      <th>2</th>\n",
       "      <td>138232</td>\n",
       "      <td>1</td>\n",
       "      <td>18</td>\n",
       "      <td>73</td>\n",
       "      <td>0.246575</td>\n",
       "      <td>0.208027</td>\n",
       "      <td>0.244104</td>\n",
       "    </tr>\n",
       "    <tr>\n",
       "      <th>3</th>\n",
       "      <td>26295</td>\n",
       "      <td>1</td>\n",
       "      <td>33</td>\n",
       "      <td>122</td>\n",
       "      <td>0.270492</td>\n",
       "      <td>0.208027</td>\n",
       "      <td>0.268033</td>\n",
       "    </tr>\n",
       "    <tr>\n",
       "      <th>4</th>\n",
       "      <td>18392</td>\n",
       "      <td>1</td>\n",
       "      <td>7</td>\n",
       "      <td>32</td>\n",
       "      <td>0.218750</td>\n",
       "      <td>0.208027</td>\n",
       "      <td>0.217301</td>\n",
       "    </tr>\n",
       "    <tr>\n",
       "      <th>...</th>\n",
       "      <td>...</td>\n",
       "      <td>...</td>\n",
       "      <td>...</td>\n",
       "      <td>...</td>\n",
       "      <td>...</td>\n",
       "      <td>...</td>\n",
       "      <td>...</td>\n",
       "    </tr>\n",
       "    <tr>\n",
       "      <th>20026</th>\n",
       "      <td>132567</td>\n",
       "      <td>1</td>\n",
       "      <td>45</td>\n",
       "      <td>296</td>\n",
       "      <td>0.152027</td>\n",
       "      <td>0.208027</td>\n",
       "      <td>0.152957</td>\n",
       "    </tr>\n",
       "    <tr>\n",
       "      <th>20027</th>\n",
       "      <td>30872</td>\n",
       "      <td>1</td>\n",
       "      <td>11</td>\n",
       "      <td>59</td>\n",
       "      <td>0.186441</td>\n",
       "      <td>0.208027</td>\n",
       "      <td>0.188127</td>\n",
       "    </tr>\n",
       "    <tr>\n",
       "      <th>20028</th>\n",
       "      <td>25383</td>\n",
       "      <td>2</td>\n",
       "      <td>42</td>\n",
       "      <td>127</td>\n",
       "      <td>0.330709</td>\n",
       "      <td>0.198060</td>\n",
       "      <td>0.325684</td>\n",
       "    </tr>\n",
       "    <tr>\n",
       "      <th>20029</th>\n",
       "      <td>139020</td>\n",
       "      <td>2</td>\n",
       "      <td>24</td>\n",
       "      <td>114</td>\n",
       "      <td>0.210526</td>\n",
       "      <td>0.198060</td>\n",
       "      <td>0.210003</td>\n",
       "    </tr>\n",
       "    <tr>\n",
       "      <th>20030</th>\n",
       "      <td>17310</td>\n",
       "      <td>2</td>\n",
       "      <td>9</td>\n",
       "      <td>82</td>\n",
       "      <td>0.109756</td>\n",
       "      <td>0.198060</td>\n",
       "      <td>0.114831</td>\n",
       "    </tr>\n",
       "  </tbody>\n",
       "</table>\n",
       "<p>20031 rows × 7 columns</p>\n",
       "</div>"
      ],
      "text/plain": [
       "       user_id  exp_group  likes  views       ctr  global_ctr  smoothed_ctr\n",
       "0       109963          1      3     15  0.200000    0.208027      0.202007\n",
       "1        26117          1     32    141  0.226950    0.208027      0.226302\n",
       "2       138232          1     18     73  0.246575    0.208027      0.244104\n",
       "3        26295          1     33    122  0.270492    0.208027      0.268033\n",
       "4        18392          1      7     32  0.218750    0.208027      0.217301\n",
       "...        ...        ...    ...    ...       ...         ...           ...\n",
       "20026   132567          1     45    296  0.152027    0.208027      0.152957\n",
       "20027    30872          1     11     59  0.186441    0.208027      0.188127\n",
       "20028    25383          2     42    127  0.330709    0.198060      0.325684\n",
       "20029   139020          2     24    114  0.210526    0.198060      0.210003\n",
       "20030    17310          2      9     82  0.109756    0.198060      0.114831\n",
       "\n",
       "[20031 rows x 7 columns]"
      ]
     },
     "execution_count": 26,
     "metadata": {},
     "output_type": "execute_result"
    }
   ],
   "source": [
    "global_ctr = [0,0]\n",
    "global_ctr[0] = df_2[df_2.exp_group == 1].likes.sum() / df_2[df_2.exp_group == 1].views.sum()\n",
    "global_ctr[1] = df_2[df_2.exp_group == 2].likes.sum() / df_2[df_2.exp_group == 2].views.sum()\n",
    "\n",
    "df_2['global_ctr'] = df_2.exp_group.apply(lambda x: global_ctr[0] if x == 1 else global_ctr[1])\n",
    "df_2['smoothed_ctr'] = (df_2.likes + df_2.global_ctr * 5) / (df_2.views + 5)\n",
    "df_2"
   ]
  },
  {
   "cell_type": "markdown",
   "id": "cd310399-c06f-4201-9edf-32c5f761df13",
   "metadata": {},
   "source": [
    "### График распределения Smoothed CTR после AB теста + t_test"
   ]
  },
  {
   "cell_type": "code",
   "execution_count": 27,
   "id": "0abbe7d4-51d9-4d45-946b-289974ce5384",
   "metadata": {},
   "outputs": [
    {
     "name": "stdout",
     "output_type": "stream",
     "text": [
      "Ttest_indResult(statistic=2.2841320431616983, pvalue=0.0223769815558559)\n"
     ]
    },
    {
     "data": {
      "text/plain": [
       "<AxesSubplot:xlabel='smoothed_ctr', ylabel='Count'>"
      ]
     },
     "execution_count": 27,
     "metadata": {},
     "output_type": "execute_result"
    },
    {
     "data": {
      "image/png": "[encoded data removed]",
      "text/plain": [
       "<Figure size 842.4x595.44 with 1 Axes>"
      ]
     },
     "metadata": {},
     "output_type": "display_data"
    }
   ],
   "source": [
    "print(stats.ttest_ind(df_2[df_2.exp_group == 1].smoothed_ctr, df_2[df_2.exp_group == 2].smoothed_ctr, equal_var=False))\n",
    "sns.histplot(data=df_2, x='smoothed_ctr', hue='exp_group', palette = ['r', 'b'], kde=False, alpha=0.5)"
   ]
  },
  {
   "cell_type": "markdown",
   "id": "de0ff039-c946-4187-a51a-64b69b08a082",
   "metadata": {},
   "source": [
    "После сглаживания CTR результаты t-test изменились: сейчас он показывает что отличия есть, хотя распределение выглядит так же."
   ]
  },
  {
   "cell_type": "markdown",
   "id": "e91fa3b5-33ad-4caf-a5c5-228efd065d75",
   "metadata": {},
   "source": [
    "### Poisson Bootstrap"
   ]
  },
  {
   "cell_type": "code",
   "execution_count": 28,
   "id": "53e87e12-b2f8-4a2f-89c9-f04951f10b93",
   "metadata": {},
   "outputs": [],
   "source": [
    "def bootstrap(likes1, views1, likes2, views2, n_bootstrap=2000):\n",
    "#weights\n",
    "    poisson_bootstraps1 = stats.poisson(1).rvs(\n",
    "        (n_bootstrap, len(likes1))).astype(np.int64)\n",
    "\n",
    "    poisson_bootstraps2 = stats.poisson(1).rvs(\n",
    "            (n_bootstrap, len(likes2))).astype(np.int64)\n",
    "    \n",
    "    globalCTR1 = (poisson_bootstraps1*likes1).sum(axis=1)/(poisson_bootstraps1*views1).sum(axis=1)\n",
    "    \n",
    "    globalCTR2 = (poisson_bootstraps2*likes2).sum(axis=1)/(poisson_bootstraps2*views2).sum(axis=1)\n",
    "\n",
    "    return globalCTR1, globalCTR2\n",
    "\n",
    "likes1 = df_2[df_2.exp_group == 1].likes.to_numpy()\n",
    "views1 = df_2[df_2.exp_group == 1].views.to_numpy()\n",
    "likes2 = df_2[df_2.exp_group == 2].likes.to_numpy()\n",
    "views2 = df_2[df_2.exp_group == 2].views.to_numpy()\n",
    "\n",
    "ctr1, ctr2 = bootstrap(likes1, views1, likes2, views2)"
   ]
  },
  {
   "cell_type": "code",
   "execution_count": 29,
   "id": "02d29beb-68f1-43a2-9274-7c0f134d86f7",
   "metadata": {},
   "outputs": [
    {
     "data": {
      "image/png": "[encoded data removed]",
      "text/plain": [
       "<Figure size 842.4x595.44 with 1 Axes>"
      ]
     },
     "metadata": {},
     "output_type": "display_data"
    }
   ],
   "source": [
    "sns.histplot(ctr1, color='r');\n",
    "sns.histplot(ctr2);"
   ]
  },
  {
   "cell_type": "code",
   "execution_count": 30,
   "id": "4b9a1e7c-844e-4771-ba93-9d2d994c27af",
   "metadata": {},
   "outputs": [
    {
     "data": {
      "image/png": "[encoded data removed]",
      "text/plain": [
       "<Figure size 842.4x595.44 with 1 Axes>"
      ]
     },
     "metadata": {},
     "output_type": "display_data"
    }
   ],
   "source": [
    "sns.histplot(ctr2-ctr1);"
   ]
  },
  {
   "cell_type": "markdown",
   "id": "8f41a2d7-039e-4967-a1af-ecc503ab6816",
   "metadata": {},
   "source": [
    "Распределения не пересекаются. Прикол в том, что глобальный CTR в таргет группе больше. Однозначно можно сказать, что алгоритм вводить не нужно"
   ]
  },
  {
   "cell_type": "markdown",
   "id": "4fae3f71-003c-4976-b5a5-0684dd5255a0",
   "metadata": {},
   "source": [
    "### Bucket"
   ]
  },
  {
   "cell_type": "code",
   "execution_count": 31,
   "id": "95bd0968-9801-4ccf-844e-7e9a8278186b",
   "metadata": {},
   "outputs": [
    {
     "data": {
      "text/html": [
       "<div>\n",
       "<style scoped>\n",
       "    .dataframe tbody tr th:only-of-type {\n",
       "        vertical-align: middle;\n",
       "    }\n",
       "\n",
       "    .dataframe tbody tr th {\n",
       "        vertical-align: top;\n",
       "    }\n",
       "\n",
       "    .dataframe thead th {\n",
       "        text-align: right;\n",
       "    }\n",
       "</style>\n",
       "<table border=\"1\" class=\"dataframe\">\n",
       "  <thead>\n",
       "    <tr style=\"text-align: right;\">\n",
       "      <th></th>\n",
       "      <th>exp_group</th>\n",
       "      <th>bucket</th>\n",
       "      <th>bucket_ctr</th>\n",
       "      <th>ctr9</th>\n",
       "    </tr>\n",
       "  </thead>\n",
       "  <tbody>\n",
       "    <tr>\n",
       "      <th>0</th>\n",
       "      <td>1</td>\n",
       "      <td>0</td>\n",
       "      <td>0.196481</td>\n",
       "      <td>0.307692</td>\n",
       "    </tr>\n",
       "    <tr>\n",
       "      <th>1</th>\n",
       "      <td>2</td>\n",
       "      <td>0</td>\n",
       "      <td>0.194262</td>\n",
       "      <td>0.384615</td>\n",
       "    </tr>\n",
       "    <tr>\n",
       "      <th>2</th>\n",
       "      <td>1</td>\n",
       "      <td>1</td>\n",
       "      <td>0.211887</td>\n",
       "      <td>0.318182</td>\n",
       "    </tr>\n",
       "    <tr>\n",
       "      <th>3</th>\n",
       "      <td>2</td>\n",
       "      <td>1</td>\n",
       "      <td>0.215328</td>\n",
       "      <td>0.467742</td>\n",
       "    </tr>\n",
       "    <tr>\n",
       "      <th>4</th>\n",
       "      <td>1</td>\n",
       "      <td>2</td>\n",
       "      <td>0.206271</td>\n",
       "      <td>0.322314</td>\n",
       "    </tr>\n",
       "  </tbody>\n",
       "</table>\n",
       "</div>"
      ],
      "text/plain": [
       "   exp_group  bucket  bucket_ctr      ctr9\n",
       "0          1       0    0.196481  0.307692\n",
       "1          2       0    0.194262  0.384615\n",
       "2          1       1    0.211887  0.318182\n",
       "3          2       1    0.215328  0.467742\n",
       "4          1       2    0.206271  0.322314"
      ]
     },
     "execution_count": 31,
     "metadata": {},
     "output_type": "execute_result"
    }
   ],
   "source": [
    "bucket_q = \"\"\"\n",
    "\n",
    "SELECT exp_group, bucket,\n",
    "    sum(likes)/sum(views) as bucket_ctr,\n",
    "    quantileExact(0.9)(ctr) as ctr9\n",
    "FROM (SELECT exp_group, \n",
    "        xxHash64(user_id)%50 as bucket,\n",
    "        user_id,\n",
    "        sum(action = 'like') as likes,\n",
    "        sum(action = 'view') as views,\n",
    "        likes/views as ctr\n",
    "    FROM simulator_20220920.feed_actions\n",
    "    WHERE toDate(time) between '2022-09-03' and '2022-09-09'\n",
    "        and exp_group in (1,2)\n",
    "    GROUP BY exp_group, bucket, user_id)\n",
    "GROUP BY exp_group, bucket\n",
    "\"\"\"\n",
    "\n",
    "bucket = ph.read_clickhouse(bucket_q, connection=connection)\n",
    "bucket.head(5)"
   ]
  },
  {
   "cell_type": "code",
   "execution_count": 32,
   "id": "d9a00ec9-cd65-4b8d-b2ed-c4d1991b5610",
   "metadata": {},
   "outputs": [
    {
     "data": {
      "text/plain": [
       "MannwhitneyuResult(statistic=1995.0, pvalue=2.859963936492646e-07)"
      ]
     },
     "execution_count": 32,
     "metadata": {},
     "output_type": "execute_result"
    }
   ],
   "source": [
    "stats.mannwhitneyu(bucket[bucket.exp_group == 1].bucket_ctr, bucket[bucket.exp_group == 2].bucket_ctr, alternative='two-sided')"
   ]
  },
  {
   "cell_type": "code",
   "execution_count": 33,
   "id": "dcb26bcb-b373-42cd-8f27-044ccd04c51b",
   "metadata": {
    "tags": []
   },
   "outputs": [
    {
     "name": "stdout",
     "output_type": "stream",
     "text": [
      "Ttest_indResult(statistic=5.668234732053979, pvalue=3.4455951649945907e-07)\n"
     ]
    },
    {
     "data": {
      "image/png": "[encoded data removed]",
      "text/plain": [
       "<Figure size 842.4x595.44 with 1 Axes>"
      ]
     },
     "metadata": {},
     "output_type": "display_data"
    }
   ],
   "source": [
    "print(stats.ttest_ind(bucket[bucket.exp_group == 1].bucket_ctr, bucket[bucket.exp_group == 2].bucket_ctr, equal_var=False))\n",
    "sns.histplot(data=bucket, x='bucket_ctr', hue='exp_group', palette = ['r','b'], bins=20);"
   ]
  },
  {
   "cell_type": "markdown",
   "id": "d8e0fb29-2840-4bc5-9f79-43bb9215a0fd",
   "metadata": {},
   "source": [
    "Ман Витни и Т-тест видят различия в группах"
   ]
  },
  {
   "cell_type": "markdown",
   "id": "d7f49feb-6472-4d7a-b1d0-758f7621cc66",
   "metadata": {},
   "source": [
    "# Заключение по заданию 2"
   ]
  },
  {
   "cell_type": "markdown",
   "id": "5885a601-b170-4f13-ab33-87ca8e01a27b",
   "metadata": {},
   "source": [
    "Выборки однозначно различаются, об этом говорят все тесты, кроме т-теста (Скорее всего из-за распределения данных). При этом глобальный CTR таргет группы стал меньше, по отношению к контрольной группе.\n",
    "Если вспомнить о самом алгоритме, то он был нацелен на то, чтобы показывать пользователю интересующие его посты. И в теории, пользователь мог просто смотреть больше постов, но не лайкать их, что очевидно полезно для компании. Кроме того могли быть пользователи, которые стали меньше смотреть и больше лайкать эти посты. Возможно причина в самом алгоритме рекомендаций - пользователям показывали не те посты, и поэтому их CTR - упал, такое падение наблюдается на первом горбу графика. А вторым пользователям посты наоборот начали заходить и они стали больше их лайкать. Исходя из этого мне кажется что нужно доработать систему алгоритмов и на данный момент точно не стоит пускать алгоритм в прод. В теории можно было бы построить гистограммы по гео,ос,гендеру итд и смотреть как там распределяются данные, но это outside of this scope а сейчас 16 сентября и у меня один день чтобы доделать домашку до максимально последнего дедлайна"
   ]
  },
  {
   "cell_type": "markdown",
   "id": "57909f63-d1cb-4b1c-b93b-01456968ceca",
   "metadata": {},
   "source": [
    "# Task 3"
   ]
  },
  {
   "cell_type": "markdown",
   "id": "96be5ffc-486c-4743-93cb-eb7115983e48",
   "metadata": {},
   "source": [
    "При этом метод сам по себе очень прост. Что это за метрика такая?\n",
    "\n",
    "*    Считаем общий CTR в контрольной группе  𝐶𝑇𝑅𝑐𝑜𝑛𝑡𝑟𝑜𝑙=𝑠𝑢𝑚(𝑙𝑖𝑘𝑒𝑠)/𝑠𝑢𝑚(𝑣𝑖𝑒𝑤𝑠) \n",
    "*    Посчитаем в обеих группах поюзерную метрику  𝑙𝑖𝑛𝑒𝑎𝑟𝑖𝑧𝑒𝑑_𝑙𝑖𝑘𝑒𝑠=𝑙𝑖𝑘𝑒𝑠−𝐶𝑇𝑅𝑐𝑜𝑛𝑡𝑟𝑜𝑙∗𝑣𝑖𝑒𝑤𝑠 \n",
    "*   После чего сравним  t-тестом отличия в группах по метрике 𝑙𝑖𝑛𝑒𝑎𝑟𝑖𝑧𝑒𝑑_𝑙𝑖𝑘𝑒𝑠\n",
    "\n",
    "Задача\n",
    "\n",
    "Проанализируйте тест между группами 0 и 3 по метрике линеаризованных лайков. Видно ли отличие? Стало ли 𝑝−𝑣𝑎𝑙𝑢𝑒 меньше?\n",
    "Проанализируйте тест между группами 1 и 2 по метрике линеаризованных лайков. Видно ли отличие? Стало ли 𝑝−𝑣𝑎𝑙𝑢𝑒 меньше?"
   ]
  },
  {
   "cell_type": "code",
   "execution_count": 34,
   "id": "a83204c8-0f8e-4a51-b58c-8f99233ee7c7",
   "metadata": {},
   "outputs": [
    {
     "data": {
      "text/html": [
       "<div>\n",
       "<style scoped>\n",
       "    .dataframe tbody tr th:only-of-type {\n",
       "        vertical-align: middle;\n",
       "    }\n",
       "\n",
       "    .dataframe tbody tr th {\n",
       "        vertical-align: top;\n",
       "    }\n",
       "\n",
       "    .dataframe thead th {\n",
       "        text-align: right;\n",
       "    }\n",
       "</style>\n",
       "<table border=\"1\" class=\"dataframe\">\n",
       "  <thead>\n",
       "    <tr style=\"text-align: right;\">\n",
       "      <th></th>\n",
       "      <th>user_id</th>\n",
       "      <th>exp_group</th>\n",
       "      <th>likes</th>\n",
       "      <th>views</th>\n",
       "      <th>ctr</th>\n",
       "    </tr>\n",
       "  </thead>\n",
       "  <tbody>\n",
       "    <tr>\n",
       "      <th>0</th>\n",
       "      <td>115383</td>\n",
       "      <td>3</td>\n",
       "      <td>9</td>\n",
       "      <td>30</td>\n",
       "      <td>0.300000</td>\n",
       "    </tr>\n",
       "    <tr>\n",
       "      <th>1</th>\n",
       "      <td>18392</td>\n",
       "      <td>1</td>\n",
       "      <td>7</td>\n",
       "      <td>32</td>\n",
       "      <td>0.218750</td>\n",
       "    </tr>\n",
       "    <tr>\n",
       "      <th>2</th>\n",
       "      <td>123580</td>\n",
       "      <td>3</td>\n",
       "      <td>13</td>\n",
       "      <td>48</td>\n",
       "      <td>0.270833</td>\n",
       "    </tr>\n",
       "    <tr>\n",
       "      <th>3</th>\n",
       "      <td>131473</td>\n",
       "      <td>2</td>\n",
       "      <td>14</td>\n",
       "      <td>134</td>\n",
       "      <td>0.104478</td>\n",
       "    </tr>\n",
       "    <tr>\n",
       "      <th>4</th>\n",
       "      <td>32420</td>\n",
       "      <td>2</td>\n",
       "      <td>26</td>\n",
       "      <td>128</td>\n",
       "      <td>0.203125</td>\n",
       "    </tr>\n",
       "  </tbody>\n",
       "</table>\n",
       "</div>"
      ],
      "text/plain": [
       "   user_id  exp_group  likes  views       ctr\n",
       "0   115383          3      9     30  0.300000\n",
       "1    18392          1      7     32  0.218750\n",
       "2   123580          3     13     48  0.270833\n",
       "3   131473          2     14    134  0.104478\n",
       "4    32420          2     26    128  0.203125"
      ]
     },
     "execution_count": 34,
     "metadata": {},
     "output_type": "execute_result"
    }
   ],
   "source": [
    "q3 = \"\"\"\n",
    "SELECT user_id, exp_group,\n",
    "    sum(action = 'like') as likes,\n",
    "    sum(action = 'view') as views,\n",
    "    likes/views as ctr\n",
    "FROM simulator_20220920.feed_actions\n",
    "WHERE toDate(time) >= '2022-09-03' and toDate(time) <= '2022-09-09'\n",
    "AND exp_group in (0,1,2,3)\n",
    "GROUP BY exp_group, user_id\n",
    "\"\"\"\n",
    "\n",
    "df3 = ph.read_clickhouse(q3, connection=connection)\n",
    "df3.head(5)"
   ]
  },
  {
   "cell_type": "markdown",
   "id": "f78afb34-4499-427e-8d80-e5d35b0184ab",
   "metadata": {},
   "source": [
    "### Сравним группы 0 и 3"
   ]
  },
  {
   "cell_type": "markdown",
   "id": "0144da64-fda6-431b-bc55-312ae4706ae5",
   "metadata": {},
   "source": [
    "t-test"
   ]
  },
  {
   "cell_type": "code",
   "execution_count": 35,
   "id": "36326568-2523-4133-a340-3afb12b0fd26",
   "metadata": {},
   "outputs": [
    {
     "data": {
      "text/plain": [
       "Ttest_indResult(statistic=-13.896870721904069, pvalue=1.055849414662529e-43)"
      ]
     },
     "execution_count": 35,
     "metadata": {},
     "output_type": "execute_result"
    }
   ],
   "source": [
    "stats.ttest_ind(df3[df3['exp_group'] == 0].ctr, df3[df3['exp_group'] == 3].ctr, equal_var=False)"
   ]
  },
  {
   "cell_type": "markdown",
   "id": "7fc0c83a-ff80-4d0e-a52f-63bb6f98f1a7",
   "metadata": {},
   "source": [
    "метод лайков"
   ]
  },
  {
   "cell_type": "code",
   "execution_count": 36,
   "id": "be6c3585-932e-420f-9404-0599faeb44f0",
   "metadata": {},
   "outputs": [],
   "source": [
    "ctr_control_0 = df3[df3['exp_group'] == 0].likes.sum() / df3[df3['exp_group'] == 0].views.sum()\n",
    "ctr_control_0\n",
    "df3['linearized_likes_1'] = df3.likes - ctr_control_0 * df3.views\n"
   ]
  },
  {
   "cell_type": "code",
   "execution_count": 37,
   "id": "03b3216d-695a-4d50-80f8-5df9437e5e51",
   "metadata": {},
   "outputs": [
    {
     "data": {
      "text/plain": [
       "Ttest_indResult(statistic=-15.214995460903827, pvalue=5.4914249479690016e-52)"
      ]
     },
     "execution_count": 37,
     "metadata": {},
     "output_type": "execute_result"
    }
   ],
   "source": [
    "stats.ttest_ind(df3[df3['exp_group'] == 0].linearized_likes_1, df3[df3['exp_group'] == 3].linearized_likes_1, equal_var=False)"
   ]
  },
  {
   "cell_type": "markdown",
   "id": "281f711e-d7cb-451e-91cc-2d7f780b8a39",
   "metadata": {},
   "source": [
    "P-value снизилось, значения статистики -13.9 до и -15.2 после"
   ]
  },
  {
   "cell_type": "markdown",
   "id": "e6335397-ee4e-4180-a4d4-1fa482b4c599",
   "metadata": {},
   "source": [
    "### Сравним группы 1 и 2"
   ]
  },
  {
   "cell_type": "markdown",
   "id": "9d469aa2-d04e-4929-9177-626d42aa779e",
   "metadata": {},
   "source": [
    "t_test"
   ]
  },
  {
   "cell_type": "code",
   "execution_count": 38,
   "id": "86592e9d-e9f3-43e9-b8fc-530a45f00948",
   "metadata": {},
   "outputs": [
    {
     "data": {
      "text/plain": [
       "Ttest_indResult(statistic=0.7094392041270485, pvalue=0.4780623130874935)"
      ]
     },
     "execution_count": 38,
     "metadata": {},
     "output_type": "execute_result"
    }
   ],
   "source": [
    "stats.ttest_ind(df3[df3.exp_group == 1].ctr,\n",
    "                df3[df3.exp_group == 2].ctr,\n",
    "                equal_var=False)"
   ]
  },
  {
   "cell_type": "markdown",
   "id": "2f57a1a9-4225-4cda-b049-c064cd64fccc",
   "metadata": {},
   "source": [
    "метод лайков\n"
   ]
  },
  {
   "cell_type": "code",
   "execution_count": 39,
   "id": "de76b702-61c6-453e-8afe-a67b8d2097cf",
   "metadata": {},
   "outputs": [
    {
     "data": {
      "text/plain": [
       "Ttest_indResult(statistic=6.095120174775194, pvalue=1.1206169008511577e-09)"
      ]
     },
     "execution_count": 39,
     "metadata": {},
     "output_type": "execute_result"
    }
   ],
   "source": [
    "ctr_control_2 = df3[df3.exp_group == 1].likes.sum() / df3[df3.exp_group == 2].views.sum()\n",
    "df3['linearized_likes_2'] = df3.likes - ctr_control_2 * df3.views\n",
    "stats.ttest_ind(df3[df3.exp_group == 1].linearized_likes_2,\n",
    "                df3[df3.exp_group == 2].linearized_likes_2,\n",
    "                equal_var=False)"
   ]
  },
  {
   "cell_type": "markdown",
   "id": "7339f056-eff6-440c-b047-49424d9a34ea",
   "metadata": {},
   "source": [
    "Тут тест лайков показывает значимые отличия, так как т-тест разницы не видел. Всему виной было то двухгорбое распределение. Значит метод лайков улучшил т-тест"
   ]
  },
  {
   "cell_type": "code",
   "execution_count": 40,
   "id": "115cb44a-e899-4f8a-9e48-73bed164c471",
   "metadata": {},
   "outputs": [
    {
     "data": {
      "text/plain": [
       "<AxesSubplot:xlabel='linearized_likes_2', ylabel='Count'>"
      ]
     },
     "execution_count": 40,
     "metadata": {},
     "output_type": "execute_result"
    },
    {
     "data": {
      "image/png": "[encoded data removed]",
      "text/plain": [
       "<Figure size 842.4x595.44 with 1 Axes>"
      ]
     },
     "metadata": {},
     "output_type": "display_data"
    }
   ],
   "source": [
    "sns.histplot(data = df3.query('exp_group == 1 | exp_group == 2'), \n",
    "              x='linearized_likes_2', \n",
    "              hue='exp_group', \n",
    "              palette = ['r', 'b'],\n",
    "              alpha=0.5,\n",
    "              kde=False)"
   ]
  },
  {
   "cell_type": "code",
   "execution_count": null,
   "id": "d5d855ef-6308-4063-ae9d-b40623949256",
   "metadata": {},
   "outputs": [],
   "source": []
  }
 ],
 "metadata": {
  "kernelspec": {
   "display_name": "Python 3 (ipykernel)",
   "language": "python",
   "name": "python3"
  },
  "language_info": {
   "codemirror_mode": {
    "name": "ipython",
    "version": 3
   },
   "file_extension": ".py",
   "mimetype": "text/x-python",
   "name": "python",
   "nbconvert_exporter": "python",
   "pygments_lexer": "ipython3",
   "version": "3.8.10"
  }
 },
 "nbformat": 4,
 "nbformat_minor": 5
}
